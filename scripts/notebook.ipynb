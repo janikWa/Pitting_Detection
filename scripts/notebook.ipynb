{
 "cells": [
  {
   "cell_type": "markdown",
   "metadata": {},
   "source": [
    "<h1> Pitting Detection </h1>"
   ]
  },
  {
   "cell_type": "markdown",
   "metadata": {},
   "source": [
    "First test without any preprocessing, using pretrained model Resnet18; \n",
    "\n",
    "18 layers:\n",
    "1 convolutional + batch norm + ReLU layer\n",
    "Followed by 8 residual blocks (each with 2 conv layers)\n",
    "Ends with average pooling and a fully connected layer\n",
    "Lightweight compared to deeper ResNets (like ResNet-50 or ResNet-101)\n",
    "Fast and lightweight, good for small to medium datasets\n",
    "Easy to train and less prone to overfitting\n",
    "Often a go-to baseline for image tasks\n",
    "Available in torchvision.models\n",
    "Pretrained on ImageNet (over 1 million images, 1000 classes)\n",
    "Can be fine-tuned for your custom dataset (e.g., 2-class pitting detection)"
   ]
  },
  {
   "cell_type": "code",
   "execution_count": 28,
   "metadata": {},
   "outputs": [],
   "source": [
    "import numpy as np\n",
    "import os\n",
    "import cv2\n",
    "from torchvision import datasets, transforms\n",
    "from torch.utils.data import DataLoader, random_split\n",
    "import torch.nn as nn\n",
    "from torchvision import models\n",
    "import torch\n",
    "from sklearn.metrics import accuracy_score, confusion_matrix\n",
    "from PIL import Image\n",
    "import seaborn as sns \n",
    "import matplotlib.pyplot as plt \n",
    "import pandas as pd"
   ]
  },
  {
   "cell_type": "code",
   "execution_count": 4,
   "metadata": {},
   "outputs": [],
   "source": [
    "BASE = os.path.abspath(os.path.join(os.getcwd(), os.pardir))\n",
    "\n",
    "data_path = os.path.join(BASE, \"data\")\n",
    "\n",
    "no_defect_simplified = os.listdir(os.path.join(data_path, \"KGT_noDefect_simplified\"))\n",
    "pitting_simplified = os.listdir(os.path.join(data_path, \"KGT_pitting_simplified\"))"
   ]
  },
  {
   "cell_type": "code",
   "execution_count": 32,
   "metadata": {},
   "outputs": [
    {
     "name": "stderr",
     "output_type": "stream",
     "text": [
      "/var/folders/xt/qp4h10d92h76_sfj0rh4m3v00000gn/T/ipykernel_25115/984678031.py:7: FutureWarning: \n",
      "\n",
      "Passing `palette` without assigning `hue` is deprecated and will be removed in v0.14.0. Assign the `x` variable to `hue` and set `legend=False` for the same effect.\n",
      "\n",
      "  barplot = sns.barplot(x='Folder', y='File Count', data=df, palette='Blues_d')\n"
     ]
    },
    {
     "data": {
      "image/png": "[encoded data removed]",
      "text/plain": [
       "<Figure size 800x600 with 1 Axes>"
      ]
     },
     "metadata": {},
     "output_type": "display_data"
    },
    {
     "name": "stdout",
     "output_type": "stream",
     "text": [
      "1496\n"
     ]
    }
   ],
   "source": [
    "df = pd.DataFrame({\n",
    "    'Folder': ['KGT_noDefect_simplified', 'KGT_pitting_simplified'],\n",
    "    'File Count': [len(no_defect_simplified), len(pitting_simplified)]\n",
    "})\n",
    "\n",
    "plt.figure(figsize=(8, 6))\n",
    "barplot = sns.barplot(x='Folder', y='File Count', data=df, palette='Blues_d')\n",
    "\n",
    "plt.title('Number of Files in Each Folder')\n",
    "plt.xlabel('Folder Name')\n",
    "plt.ylabel('File Count')\n",
    "\n",
    "for p in barplot.patches:\n",
    "    barplot.annotate(f'{int(p.get_height())}', \n",
    "                      (p.get_x() + p.get_width() / 2., p.get_height()), \n",
    "                      ha='center', va='center', \n",
    "                      fontsize=12, color='black', \n",
    "                      xytext=(0, 5), textcoords='offset points')\n",
    "\n",
    "plt.show()\n",
    "\n",
    "sum = len(no_defect_simplified) + len(pitting_simplified)\n",
    "print(sum)"
   ]
  },
  {
   "cell_type": "code",
   "execution_count": null,
   "metadata": {},
   "outputs": [
    {
     "name": "stdout",
     "output_type": "stream",
     "text": [
      "/Users/janikwahrheit/Library/CloudStorage/OneDrive-Persönlich/01_Studium/01_Bachelor/06. SS_2025/Pitting_Detection/data/P (22).png\n"
     ]
    }
   ],
   "source": [
    "image = cv2.imread(os.path.join(data_path, \"KGT_pitting_simplified\",pitting_simplified[0]))\n",
    "print(os.path.join(data_path, pitting_simplified[0]))\n",
    "# Display the image\n",
    "cv2.imshow('Image', image)\n",
    "\n",
    "# Wait for a key press to close the window\n",
    "cv2.waitKey(0)\n",
    "cv2.destroyAllWindows()"
   ]
  },
  {
   "cell_type": "code",
   "execution_count": null,
   "metadata": {},
   "outputs": [],
   "source": [
    "# Define transform\n",
    "transform = transforms.Compose([\n",
    "    transforms.Resize((224, 224)),\n",
    "    transforms.ToTensor(),\n",
    "    transforms.Normalize(mean=[0.5], std=[0.5]) \n",
    "])\n",
    "\n",
    "# Load dataset\n",
    "dataset = datasets.ImageFolder(root=os.path.join(BASE, \"dataset\"), transform=transform)\n",
    "\n",
    "# Split into train (80%) and test (20%)\n",
    "train_size = int(0.8 * len(dataset))\n",
    "test_size = len(dataset) - train_size\n",
    "train_dataset, test_dataset = random_split(dataset, [train_size, test_size])\n",
    "\n",
    "# Create dataloaders\n",
    "train_loader = DataLoader(train_dataset, batch_size=16, shuffle=True)\n",
    "test_loader = DataLoader(test_dataset, batch_size=16)"
   ]
  },
  {
   "cell_type": "code",
   "execution_count": null,
   "metadata": {},
   "outputs": [
    {
     "name": "stderr",
     "output_type": "stream",
     "text": [
      "/Users/janikwahrheit/anaconda3/envs/pitting_env/lib/python3.10/site-packages/torchvision/models/_utils.py:208: UserWarning: The parameter 'pretrained' is deprecated since 0.13 and may be removed in the future, please use 'weights' instead.\n",
      "  warnings.warn(\n",
      "/Users/janikwahrheit/anaconda3/envs/pitting_env/lib/python3.10/site-packages/torchvision/models/_utils.py:223: UserWarning: Arguments other than a weight enum or `None` for 'weights' are deprecated since 0.13 and may be removed in the future. The current behavior is equivalent to passing `weights=ResNet18_Weights.IMAGENET1K_V1`. You can also use `weights=ResNet18_Weights.DEFAULT` to get the most up-to-date weights.\n",
      "  warnings.warn(msg)\n"
     ]
    },
    {
     "name": "stdout",
     "output_type": "stream",
     "text": [
      "Downloading: \"https://download.pytorch.org/models/resnet18-f37072fd.pth\" to /Users/janikwahrheit/.cache/torch/hub/checkpoints/resnet18-f37072fd.pth\n"
     ]
    },
    {
     "name": "stderr",
     "output_type": "stream",
     "text": [
      "100%|██████████| 44.7M/44.7M [00:03<00:00, 14.2MB/s]\n"
     ]
    }
   ],
   "source": [
    "model = models.resnet18(pretrained=True)\n",
    "\n",
    "# Modify the final layer for binary classification\n",
    "model.fc = nn.Linear(model.fc.in_features, 2)"
   ]
  },
  {
   "cell_type": "code",
   "execution_count": 9,
   "metadata": {},
   "outputs": [
    {
     "name": "stdout",
     "output_type": "stream",
     "text": [
      "Epoch 1, Loss: 8.3886\n",
      "Epoch 2, Loss: 2.5284\n",
      "Epoch 3, Loss: 0.6550\n",
      "Epoch 4, Loss: 1.5182\n",
      "Epoch 5, Loss: 0.3414\n",
      "Epoch 6, Loss: 0.1453\n",
      "Epoch 7, Loss: 0.0534\n",
      "Epoch 8, Loss: 0.0412\n",
      "Epoch 9, Loss: 0.0334\n",
      "Epoch 10, Loss: 0.0288\n"
     ]
    }
   ],
   "source": [
    "device = torch.device(\"cuda\" if torch.cuda.is_available() else \"cpu\")\n",
    "model.to(device)\n",
    "\n",
    "criterion = nn.CrossEntropyLoss()\n",
    "optimizer = torch.optim.Adam(model.parameters(), lr=1e-4)\n",
    "\n",
    "# Training loop\n",
    "for epoch in range(10):\n",
    "    model.train()\n",
    "    running_loss = 0.0\n",
    "    for images, labels in train_loader:\n",
    "        images, labels = images.to(device), labels.to(device)\n",
    "        optimizer.zero_grad()\n",
    "\n",
    "        outputs = model(images)\n",
    "        loss = criterion(outputs, labels)\n",
    "        loss.backward()\n",
    "        optimizer.step()\n",
    "\n",
    "        running_loss += loss.item()\n",
    "    print(f\"Epoch {epoch+1}, Loss: {running_loss:.4f}\")\n"
   ]
  },
  {
   "cell_type": "code",
   "execution_count": null,
   "metadata": {},
   "outputs": [],
   "source": [
    "# Save model\n",
    "torch.save(model.state_dict(), os.path.join(BASE, \"models\",  \"resnet18_pitting.pth\"))"
   ]
  },
  {
   "cell_type": "code",
   "execution_count": 13,
   "metadata": {},
   "outputs": [
    {
     "name": "stdout",
     "output_type": "stream",
     "text": [
      "Accuracy: 0.9966666666666667\n",
      "Confusion Matrix:\n",
      "[[121   1]\n",
      " [  0 178]]\n"
     ]
    }
   ],
   "source": [
    "model.eval()\n",
    "all_preds = []\n",
    "all_labels = []\n",
    "\n",
    "with torch.no_grad():\n",
    "    for images, labels in test_loader:\n",
    "        images = images.to(device)\n",
    "        outputs = model(images)\n",
    "        _, preds = torch.max(outputs, 1)\n",
    "        all_preds.extend(preds.cpu().numpy())\n",
    "        all_labels.extend(labels.numpy())\n",
    "\n",
    "print(\"Accuracy:\", accuracy_score(all_labels, all_preds))\n",
    "print(\"Confusion Matrix:\")\n",
    "print(confusion_matrix(all_labels, all_preds))"
   ]
  },
  {
   "cell_type": "code",
   "execution_count": null,
   "metadata": {},
   "outputs": [
    {
     "data": {
      "image/png": "[encoded data removed]",
      "text/plain": [
       "<Figure size 800x600 with 2 Axes>"
      ]
     },
     "metadata": {},
     "output_type": "display_data"
    }
   ],
   "source": [
    "cm = confusion_matrix(all_labels, all_preds)\n",
    "\n",
    "plt.figure(figsize=(8, 6))\n",
    "sns.heatmap(cm, annot=True, fmt='d', cmap='Blues')\n",
    "plt.title('Confusion Matrix')\n",
    "plt.xlabel('Predicted Label')\n",
    "plt.ylabel('True Label')\n",
    "plt.show()"
   ]
  },
  {
   "cell_type": "code",
   "execution_count": null,
   "metadata": {},
   "outputs": [
    {
     "name": "stdout",
     "output_type": "stream",
     "text": [
      "Predicted class index: 0\n"
     ]
    }
   ],
   "source": [
    "# load image \n",
    "image_path = os.path.join(BASE, \"data/KGT_noDefect/N (446).png\") \n",
    "image = Image.open(image_path)\n",
    "image = transform(image).unsqueeze(0)  \n",
    "\n",
    "# Move the image to the same device as the model\n",
    "image = image.to(device)\n",
    "\n",
    "\n",
    "# Predict\n",
    "with torch.no_grad():\n",
    "    outputs = model(image)\n",
    "\n",
    "_, predicted_class = torch.max(outputs, 1)\n",
    "\n",
    "print(f\"Predicted class index: {predicted_class.item()}\")"
   ]
  }
 ],
 "metadata": {
  "kernelspec": {
   "display_name": "pitting_env",
   "language": "python",
   "name": "python3"
  },
  "language_info": {
   "codemirror_mode": {
    "name": "ipython",
    "version": 3
   },
   "file_extension": ".py",
   "mimetype": "text/x-python",
   "name": "python",
   "nbconvert_exporter": "python",
   "pygments_lexer": "ipython3",
   "version": "3.10.16"
  }
 },
 "nbformat": 4,
 "nbformat_minor": 2
}
