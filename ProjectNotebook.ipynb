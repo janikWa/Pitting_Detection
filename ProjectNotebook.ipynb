{
 "cells": [
  {
   "cell_type": "markdown",
   "id": "e27efc62",
   "metadata": {},
   "source": [
    "Zunächst die Standardimports der Libraries"
   ]
  },
  {
   "cell_type": "code",
   "execution_count": 35,
   "id": "157c443c",
   "metadata": {},
   "outputs": [],
   "source": [
    "import numpy as np\n",
    "import cv2\n",
    "from pathlib import Path\n",
    "\n",
    "from sklearn.ensemble import RandomForestClassifier\n",
    "from sklearn.model_selection import train_test_split\n",
    "from sklearn.metrics import classification_report\n",
    "from skimage.feature import local_binary_pattern"
   ]
  },
  {
   "cell_type": "markdown",
   "id": "fca41f58",
   "metadata": {},
   "source": [
    "Import der Daten\n",
    "(erstmal nur die ersten 5 Bilder) (mittlerweile alle)"
   ]
  },
  {
   "cell_type": "code",
   "execution_count": 36,
   "id": "55980996",
   "metadata": {},
   "outputs": [],
   "source": [
    "currentPath = Path().cwd()\n",
    "\n",
    "targetPath = currentPath.parent / 'data' / 'KGT_noDefect_simplified'\n",
    "imsNoF = [[str(file), False] for file in targetPath.iterdir() if file.is_file()]\n",
    "\n",
    "targetPath = currentPath.parent / 'data' / 'KGT_pitting_simplified'\n",
    "imsF = [[str(file), True] for file in targetPath.iterdir() if file.is_file()]\n",
    "\n",
    "ims = imsNoF + imsF\n",
    "\n",
    "del(imsNoF, imsF, currentPath, targetPath)"
   ]
  },
  {
   "cell_type": "markdown",
   "id": "cfd382a9",
   "metadata": {},
   "source": [
    "zur veranschaulichung Umwandlung in Grey Scale\n",
    "<h1> Überschrift </h1>"
   ]
  },
  {
   "cell_type": "markdown",
   "id": "cb94d419",
   "metadata": {},
   "source": [
    "Für den Moment damit bereits dreifache Trainingsdaten. Kanten halte ich für äußerst hilfreich."
   ]
  },
  {
   "cell_type": "code",
   "execution_count": 41,
   "id": "48f1e388",
   "metadata": {},
   "outputs": [],
   "source": [
    "def processImage(path, size=(150,150)):\n",
    "    img = cv2.imread(str(path), cv2.IMREAD_GRAYSCALE)\n",
    "    if img is None:\n",
    "        return None\n",
    "    img = cv2.resize(img, size)\n",
    "\n",
    "    # Feature 1: einfache Grayscale\n",
    "    grayFlat = img.flatten()\n",
    "\n",
    "    # Feature 2: sobel\n",
    "    sobelx = cv2.Sobel(img, cv2.CV_64F, 1, 0)\n",
    "    sobely = cv2.Sobel(img, cv2.CV_64F, 0, 1)\n",
    "    sobel = cv2.magnitude(sobelx, sobely)\n",
    "    sobelFlat = sobel.flatten()\n",
    "\n",
    "    # Feature 3: Histogramm\n",
    "    hist = cv2.calcHist([img], [0], None, [16], [0,256])\n",
    "    hist = cv2.normalize(hist,hist).flatten()\n",
    "\n",
    "    # Feature 4: LBP (Local Binary Pattern)\n",
    "    lbp = local_binary_pattern(img, P=8, R=1, method='uniform')\n",
    "    lbp_hist, _ = np.histogram(lbp, bins = np.arange(0,10), range= (0,9), density = True)\n",
    "\n",
    "    features = np.concatenate([grayFlat,sobelFlat,hist,lbp_hist])\n",
    "    return features"
   ]
  },
  {
   "cell_type": "code",
   "execution_count": 42,
   "id": "6da0e1dc",
   "metadata": {},
   "outputs": [],
   "source": [
    "for i in range(len(ims)):\n",
    "    processedImage = processImage(ims[i][0])\n",
    "    if processedImage is not None:\n",
    "        ims[i][0] = processedImage"
   ]
  },
  {
   "cell_type": "code",
   "execution_count": 43,
   "id": "7f49d619",
   "metadata": {},
   "outputs": [],
   "source": [
    "images, labels = zip(*ims)\n",
    "X = np.array(images)\n",
    "y = np.array(labels)\n",
    "XTrain, XTest, yTrain, yTest = train_test_split(X,y, stratify=y, test_size=0.3, random_state=42)"
   ]
  },
  {
   "cell_type": "code",
   "execution_count": 44,
   "id": "cf6638e9",
   "metadata": {},
   "outputs": [
    {
     "name": "stdout",
     "output_type": "stream",
     "text": [
      "              precision    recall  f1-score   support\n",
      "\n",
      "       False       0.96      0.90      0.93       194\n",
      "        True       0.93      0.97      0.95       255\n",
      "\n",
      "    accuracy                           0.94       449\n",
      "   macro avg       0.94      0.94      0.94       449\n",
      "weighted avg       0.94      0.94      0.94       449\n",
      "\n"
     ]
    }
   ],
   "source": [
    "clf = RandomForestClassifier(n_estimators=100, random_state=42)\n",
    "clf.fit(XTrain, yTrain)\n",
    "yPred = clf.predict(XTest)\n",
    "print(classification_report(yTest,yPred))"
   ]
  },
  {
   "cell_type": "code",
   "execution_count": null,
   "id": "8e46571e",
   "metadata": {},
   "outputs": [],
   "source": []
  }
 ],
 "metadata": {
  "kernelspec": {
   "display_name": "SemKiP",
   "language": "python",
   "name": "python3"
  },
  "language_info": {
   "codemirror_mode": {
    "name": "ipython",
    "version": 3
   },
   "file_extension": ".py",
   "mimetype": "text/x-python",
   "name": "python",
   "nbconvert_exporter": "python",
   "pygments_lexer": "ipython3",
   "version": "3.12.9"
  }
 },
 "nbformat": 4,
 "nbformat_minor": 5
}
