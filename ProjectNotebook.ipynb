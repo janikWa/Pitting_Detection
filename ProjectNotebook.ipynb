{
 "cells": [
  {
   "cell_type": "markdown",
   "id": "e27efc62",
   "metadata": {},
   "source": [
    "Zunächst die Standardimports der Libraries"
   ]
  },
  {
   "cell_type": "code",
   "execution_count": 24,
   "id": "157c443c",
   "metadata": {},
   "outputs": [],
   "source": [
    "import numpy as np\n",
    "#import matplotlib.pyplot as plt\n",
    "import cv2\n",
    "from pathlib import Path\n",
    "from itertools import islice\n",
    "import pandas as pd\n",
    "\n",
    "from sklearn.ensemble import RandomForestClassifier\n",
    "from sklearn.model_selection import train_test_split\n",
    "from sklearn.metrics import classification_report"
   ]
  },
  {
   "cell_type": "markdown",
   "id": "fca41f58",
   "metadata": {},
   "source": [
    "Import der Daten\n",
    "(erstmal nur die ersten 5 Bilder) (mittlerweile alle)"
   ]
  },
  {
   "cell_type": "code",
   "execution_count": 25,
   "id": "55980996",
   "metadata": {},
   "outputs": [],
   "source": [
    "currentPath = Path().cwd()\n",
    "\n",
    "targetPath = currentPath.parent / 'data' / 'KGT_noDefect_simplified'\n",
    "imsNoF = [[str(file), False] for file in targetPath.iterdir() if file.is_file()]\n",
    "\n",
    "targetPath = currentPath.parent / 'data' / 'KGT_pitting_simplified'\n",
    "imsF = [[str(file), True] for file in targetPath.iterdir() if file.is_file()]\n",
    "\n",
    "ims = imsNoF + imsF\n",
    "\n",
    "del(imsNoF, imsF, currentPath, targetPath)"
   ]
  },
  {
   "cell_type": "markdown",
   "id": "cfd382a9",
   "metadata": {},
   "source": [
    "zur veranschaulichung Umwandlung in Grey Scale"
   ]
  },
  {
   "cell_type": "code",
   "execution_count": 26,
   "id": "982df5fa",
   "metadata": {},
   "outputs": [
    {
     "data": {
      "text/plain": [
       "'\\nimsGray = []\\nfor file, _ in ims:\\n    imsGray.append(cv2.cvtColor(file, cv2.COLOR_BGR2GRAY))\\n'"
      ]
     },
     "execution_count": 26,
     "metadata": {},
     "output_type": "execute_result"
    }
   ],
   "source": [
    "'''\n",
    "imsGray = []\n",
    "for file, _ in ims:\n",
    "    imsGray.append(cv2.cvtColor(file, cv2.COLOR_BGR2GRAY))\n",
    "'''"
   ]
  },
  {
   "cell_type": "markdown",
   "id": "f338f8c0",
   "metadata": {},
   "source": [
    "finden von Kanten mit Sobel"
   ]
  },
  {
   "cell_type": "code",
   "execution_count": 27,
   "id": "94c5ed79",
   "metadata": {},
   "outputs": [
    {
     "data": {
      "text/plain": [
       "'\\nsobelIms = []\\nfor image in imsGray:\\n    sobelx = cv2.Sobel(image, cv2.CV_64F, 1, 0, ksize=3)\\n    sobely = cv2.Sobel(image, cv2.CV_64F, 0, 1, ksize=3)\\n    sobelIms.append(cv2.convertScaleAbs(cv2.magnitude(sobelx,sobely)))\\n'"
      ]
     },
     "execution_count": 27,
     "metadata": {},
     "output_type": "execute_result"
    }
   ],
   "source": [
    "'''\n",
    "sobelIms = []\n",
    "for image in imsGray:\n",
    "    sobelx = cv2.Sobel(image, cv2.CV_64F, 1, 0, ksize=3)\n",
    "    sobely = cv2.Sobel(image, cv2.CV_64F, 0, 1, ksize=3)\n",
    "    sobelIms.append(cv2.convertScaleAbs(cv2.magnitude(sobelx,sobely)))\n",
    "'''"
   ]
  },
  {
   "cell_type": "markdown",
   "id": "cb94d419",
   "metadata": {},
   "source": [
    "Für den Moment damit bereits dreifache Trainingsdaten. Kanten halte ich für äußerst hilfreich."
   ]
  },
  {
   "cell_type": "code",
   "execution_count": 28,
   "id": "9cb719bc",
   "metadata": {},
   "outputs": [
    {
     "data": {
      "text/plain": [
       "\"\\ncv2.imshow('Color', ims[0][0])\\ncv2.imshow('gray', imsGray[0][0])\\ncv2.imshow('sobel', sobelIms[0])\\n\\ncv2.waitKey(0)\\ncv2.destroyAllWindows()\\n\""
      ]
     },
     "execution_count": 28,
     "metadata": {},
     "output_type": "execute_result"
    }
   ],
   "source": [
    "'''\n",
    "cv2.imshow('Color', ims[0][0])\n",
    "cv2.imshow('gray', imsGray[0][0])\n",
    "cv2.imshow('sobel', sobelIms[0])\n",
    "\n",
    "cv2.waitKey(0)\n",
    "cv2.destroyAllWindows()\n",
    "'''"
   ]
  },
  {
   "cell_type": "code",
   "execution_count": 29,
   "id": "92596850",
   "metadata": {},
   "outputs": [
    {
     "data": {
      "text/plain": [
       "\"\\nimData = pd.DataFrame(ims,columns=['image', 'label'])\\nimData['gray image'] = imsGray\\nimData['sobel image'] = sobelIms\\ndel(ims, imsGray, sobelIms)\\n\""
      ]
     },
     "execution_count": 29,
     "metadata": {},
     "output_type": "execute_result"
    }
   ],
   "source": [
    "'''\n",
    "imData = pd.DataFrame(ims,columns=['image', 'label'])\n",
    "imData['gray image'] = imsGray\n",
    "imData['sobel image'] = sobelIms\n",
    "del(ims, imsGray, sobelIms)\n",
    "'''"
   ]
  },
  {
   "cell_type": "code",
   "execution_count": 30,
   "id": "48f1e388",
   "metadata": {},
   "outputs": [],
   "source": [
    "def processImage(path, size=(150,150)):\n",
    "    img = cv2.imread(str(path), cv2.IMREAD_GRAYSCALE)\n",
    "    if img is None:\n",
    "        return None\n",
    "    img = cv2.resize(img, size)\n",
    "    sobelx = cv2.Sobel(img, cv2.CV_64F, 1, 0)\n",
    "    sobely = cv2.Sobel(img, cv2.CV_64F, 0, 1)\n",
    "    sobel = cv2.magnitude(sobelx, sobely)\n",
    "    features = sobel.flatten()\n",
    "    return features"
   ]
  },
  {
   "cell_type": "code",
   "execution_count": 31,
   "id": "6da0e1dc",
   "metadata": {},
   "outputs": [],
   "source": [
    "for i in range(len(ims)):\n",
    "    processedImage = processImage(ims[i][0])\n",
    "    if processedImage is not None:\n",
    "        ims[i][0] = processedImage"
   ]
  },
  {
   "cell_type": "code",
   "execution_count": 32,
   "id": "7f49d619",
   "metadata": {},
   "outputs": [],
   "source": [
    "images, labels = zip(*ims)\n",
    "X = np.array(images)\n",
    "y = np.array(labels)\n",
    "XTrain, XTest, yTrain, yTest = train_test_split(X,y, stratify=y, test_size=0.3, random_state=42)"
   ]
  },
  {
   "cell_type": "code",
   "execution_count": 33,
   "id": "cf6638e9",
   "metadata": {},
   "outputs": [
    {
     "name": "stdout",
     "output_type": "stream",
     "text": [
      "              precision    recall  f1-score   support\n",
      "\n",
      "       False       0.77      0.77      0.77       194\n",
      "        True       0.82      0.83      0.83       255\n",
      "\n",
      "    accuracy                           0.80       449\n",
      "   macro avg       0.80      0.80      0.80       449\n",
      "weighted avg       0.80      0.80      0.80       449\n",
      "\n"
     ]
    }
   ],
   "source": [
    "clf = RandomForestClassifier(n_estimators=100, random_state=42)\n",
    "clf.fit(XTrain, yTrain)\n",
    "yPred = clf.predict(XTest)\n",
    "print(classification_report(yTest,yPred))"
   ]
  }
 ],
 "metadata": {
  "kernelspec": {
   "display_name": "SemKiP",
   "language": "python",
   "name": "python3"
  },
  "language_info": {
   "codemirror_mode": {
    "name": "ipython",
    "version": 3
   },
   "file_extension": ".py",
   "mimetype": "text/x-python",
   "name": "python",
   "nbconvert_exporter": "python",
   "pygments_lexer": "ipython3",
   "version": "3.12.9"
  }
 },
 "nbformat": 4,
 "nbformat_minor": 5
}
