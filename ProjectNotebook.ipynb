{
 "cells": [
  {
   "cell_type": "markdown",
   "id": "e27efc62",
   "metadata": {},
   "source": [
    "zunächst Die Imports der Libraries"
   ]
  },
  {
   "cell_type": "code",
   "execution_count": 8,
   "id": "157c443c",
   "metadata": {},
   "outputs": [],
   "source": [
    "import numpy as np\n",
    "import matplotlib.pyplot as plt\n",
    "import cv2\n",
    "from pathlib import Path\n",
    "from itertools import islice"
   ]
  },
  {
   "cell_type": "markdown",
   "id": "fca41f58",
   "metadata": {},
   "source": [
    "Import der Daten\n",
    "(erstmal nur die ersten 5 Bilder)"
   ]
  },
  {
   "cell_type": "code",
   "execution_count": 22,
   "id": "55980996",
   "metadata": {},
   "outputs": [],
   "source": [
    "currentPath = Path().cwd()\n",
    "\n",
    "targetPath = currentPath.parent / 'data' / 'KGT_noDefect_simplified'\n",
    "imsNoF = [[cv2.imread(file, cv2.IMREAD_COLOR), False] for file in islice(targetPath.iterdir(), 5) if file.is_file()]\n",
    "\n",
    "targetPath = currentPath.parent / 'data' / 'KGT_pitting_simplified'\n",
    "imsF = [[cv2.imread(file, cv2.IMREAD_COLOR), True] for file in islice(targetPath.iterdir(), 5) if file.is_file()]\n",
    "\n",
    "ims = imsNoF + imsF\n",
    "\n",
    "del(imsNoF, imsF, currentPath, targetPath)"
   ]
  },
  {
   "cell_type": "markdown",
   "id": "cfd382a9",
   "metadata": {},
   "source": [
    "zur veranschaulichung Umwandlung in Grey Scale"
   ]
  },
  {
   "cell_type": "code",
   "execution_count": null,
   "id": "982df5fa",
   "metadata": {},
   "outputs": [],
   "source": [
    "imsGray = []\n",
    "for file, label in ims:\n",
    "    imsGray.append([cv2.cvtColor(file, cv2.COLOR_BGR2GRAY), label])"
   ]
  },
  {
   "cell_type": "markdown",
   "id": "f338f8c0",
   "metadata": {},
   "source": [
    "finden von Kanten mit Sobel"
   ]
  },
  {
   "cell_type": "code",
   "execution_count": 27,
   "id": "94c5ed79",
   "metadata": {},
   "outputs": [],
   "source": [
    "sobelIms = []\n",
    "for image, _ in imsGray:\n",
    "    sobelx = cv2.Sobel(image, cv2.CV_64F, 1, 0, ksize=3)\n",
    "    sobely = cv2.Sobel(image, cv2.CV_64F, 0, 1, ksize=3)\n",
    "    sobelIms.append(cv2.convertScaleAbs(cv2.magnitude(sobelx,sobely)))"
   ]
  },
  {
   "cell_type": "markdown",
   "id": "cb94d419",
   "metadata": {},
   "source": [
    "Für den Moment damit bereits dreifache Trainingsdaten. Kanten halte ich für äußerst hilfreich."
   ]
  },
  {
   "cell_type": "code",
   "execution_count": 28,
   "id": "9cb719bc",
   "metadata": {},
   "outputs": [],
   "source": [
    "cv2.imshow('Color', ims[0][0])\n",
    "cv2.imshow('gray', imsGray[0][0])\n",
    "cv2.imshow('sobel', sobelIms[0])\n",
    "\n",
    "cv2.waitKey(0)\n",
    "cv2.destroyAllWindows()"
   ]
  }
 ],
 "metadata": {
  "kernelspec": {
   "display_name": "SemKiP",
   "language": "python",
   "name": "python3"
  },
  "language_info": {
   "codemirror_mode": {
    "name": "ipython",
    "version": 3
   },
   "file_extension": ".py",
   "mimetype": "text/x-python",
   "name": "python",
   "nbconvert_exporter": "python",
   "pygments_lexer": "ipython3",
   "version": "3.12.9"
  }
 },
 "nbformat": 4,
 "nbformat_minor": 5
}
