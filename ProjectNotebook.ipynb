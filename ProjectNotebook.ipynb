{
 "cells": [
  {
   "cell_type": "code",
   "execution_count": 1,
   "id": "157c443c",
   "metadata": {},
   "outputs": [],
   "source": [
    "import numpy as np\n",
    "import cv2\n",
    "import albumentations as A\n",
    "from pathlib import Path\n",
    "import matplotlib.pyplot as plt\n",
    "\n",
    "from sklearn.ensemble import RandomForestClassifier\n",
    "from sklearn.model_selection import train_test_split\n",
    "from sklearn.metrics import classification_report\n",
    "from skimage.feature import local_binary_pattern"
   ]
  },
  {
   "cell_type": "code",
   "execution_count": 2,
   "id": "55980996",
   "metadata": {},
   "outputs": [],
   "source": [
    "currentPath = Path().cwd()\n",
    "\n",
    "targetPath = currentPath.parent / 'data' / 'KGT_noDefect'\n",
    "imsNoF = [[str(file), False] for file in targetPath.iterdir() if file.is_file()]\n",
    "\n",
    "targetPath = currentPath.parent / 'data' / 'KGT_pitting'\n",
    "imsF = [[str(file), True] for file in targetPath.iterdir() if file.is_file()]\n",
    "\n",
    "ims = imsNoF + imsF\n",
    "paths = [x[0] for x in ims]\n",
    "\n",
    "del(imsNoF, imsF, currentPath, targetPath)"
   ]
  },
  {
   "cell_type": "code",
   "execution_count": 3,
   "id": "c27741ca",
   "metadata": {},
   "outputs": [],
   "source": [
    "def readImage(path, size=(150,150)):\n",
    "    img = cv2.imread(str(path), cv2.IMREAD_GRAYSCALE)\n",
    "    if img is None:\n",
    "        return None\n",
    "    return cv2.resize(img, size)"
   ]
  },
  {
   "cell_type": "code",
   "execution_count": 4,
   "id": "48f1e388",
   "metadata": {},
   "outputs": [],
   "source": [
    "def processImage(img):\n",
    "    # Feature 1: einfache Grayscale\n",
    "    grayFlat = img.flatten()\n",
    "\n",
    "    # Feature 2: sobel\n",
    "    sobelx = cv2.Sobel(img, cv2.CV_64F, 1, 0)\n",
    "    sobely = cv2.Sobel(img, cv2.CV_64F, 0, 1)\n",
    "    sobel = cv2.magnitude(sobelx, sobely)\n",
    "    sobelFlat = sobel.flatten()\n",
    "\n",
    "    # Feature 3: Histogramm\n",
    "    hist = cv2.calcHist([img], [0], None, [16], [0,256])\n",
    "    hist = cv2.normalize(hist,hist).flatten()\n",
    "\n",
    "    # Feature 4: LBP (Local Binary Pattern)\n",
    "    lbp = local_binary_pattern(img, P=8, R=1, method='uniform')\n",
    "    lbp_hist, _ = np.histogram(lbp, bins = np.arange(0,10), range= (0,9), density = True)\n",
    "\n",
    "    features = np.concatenate([grayFlat,sobelFlat,hist,lbp_hist])\n",
    "    return features"
   ]
  },
  {
   "cell_type": "code",
   "execution_count": 5,
   "id": "6da0e1dc",
   "metadata": {},
   "outputs": [],
   "source": [
    "for i in range(len(ims)):\n",
    "    processedImage = processImage(readImage(ims[i][0]))\n",
    "    if processedImage is not None:\n",
    "        ims[i][0] = processedImage"
   ]
  },
  {
   "cell_type": "code",
   "execution_count": 6,
   "id": "8ee4ed15",
   "metadata": {},
   "outputs": [
    {
     "name": "stderr",
     "output_type": "stream",
     "text": [
      "C:\\Users\\max\\AppData\\Local\\Temp\\ipykernel_22692\\817023578.py:6: UserWarning: Argument(s) 'var_limit' are not valid for transform GaussNoise\n",
      "  A.GaussNoise(var_limit=(5.0, 10.0), p=0.1)\n"
     ]
    },
    {
     "data": {
      "text/plain": [
       "'\\naugIms = []\\ni = 0\\nfor path in paths:\\n    img = readImage(path)\\n    aug_img = augmentImage(img)\\n    augIms.append(processImage(aug_img))  # Features für Modell\\n\\n    # Bild nur anzeigen – aber das augmentierte Bild, nicht die Features\\n    if i < 5:\\n        plt.imshow(aug_img, cmap=\\'gray\\')\\n        plt.title(f\"Augmented {i}\")\\n        plt.axis(\\'off\\')\\n        plt.show()\\n    elif i > 1491:\\n        plt.imshow(aug_img, cmap=\\'gray\\')\\n        plt.title(f\"Augmented {i}\")\\n        plt.axis(\\'off\\')\\n        plt.show()\\n    i+=1    \\n'"
      ]
     },
     "execution_count": 6,
     "metadata": {},
     "output_type": "execute_result"
    }
   ],
   "source": [
    "augmenter = A.Compose([\n",
    "    A.HorizontalFlip(p=0.5),\n",
    "    #A.Rotate(limit=15, p=0.5),\n",
    "    A.RandomBrightnessContrast(p=0.2),\n",
    "    A.GaussianBlur(blur_limit=(3,3), p=0.1),\n",
    "    A.GaussNoise(var_limit=(5.0, 10.0), p=0.1)\n",
    "])\n",
    "\n",
    "def augmentImage(img):\n",
    "    return augmenter(image=img)['image']\n",
    "\n",
    "'''\n",
    "augIms = []\n",
    "i = 0\n",
    "for path in paths:\n",
    "    img = readImage(path)\n",
    "    aug_img = augmentImage(img)\n",
    "    augIms.append(processImage(aug_img))  # Features für Modell\n",
    "    \n",
    "    # Bild nur anzeigen – aber das augmentierte Bild, nicht die Features\n",
    "    if i < 5:\n",
    "        plt.imshow(aug_img, cmap='gray')\n",
    "        plt.title(f\"Augmented {i}\")\n",
    "        plt.axis('off')\n",
    "        plt.show()\n",
    "    elif i > 1491:\n",
    "        plt.imshow(aug_img, cmap='gray')\n",
    "        plt.title(f\"Augmented {i}\")\n",
    "        plt.axis('off')\n",
    "        plt.show()\n",
    "    i+=1    \n",
    "''' \n"
   ]
  },
  {
   "cell_type": "markdown",
   "id": "3ae8a2e3",
   "metadata": {},
   "source": [
    "Dieser Block wird für die Benchmark ausgelassen, um den Einfluss dessen nicht mit zu beurteilen."
   ]
  },
  {
   "cell_type": "code",
   "execution_count": 7,
   "id": "c1dae082",
   "metadata": {},
   "outputs": [],
   "source": [
    "#augmented = [[augIms[i],ims[i][1]] for i in range(len(augIms))]\n",
    "#ims = ims + augmented\n",
    "#del (augIms, augmented, paths)"
   ]
  },
  {
   "cell_type": "markdown",
   "id": "a689f686",
   "metadata": {},
   "source": [
    "nachfolgend werden einige andere klassische ml Algorithmen getestet. Die Auswahl ist sicherlich nicht vollständig sinnvoll (KNN...)"
   ]
  },
  {
   "cell_type": "code",
   "execution_count": 8,
   "id": "00a49627",
   "metadata": {},
   "outputs": [],
   "source": [
    "from sklearn.svm import SVC\n",
    "from sklearn.neighbors import KNeighborsClassifier\n",
    "from sklearn.linear_model import LogisticRegression\n",
    "from sklearn.ensemble import GradientBoostingClassifier"
   ]
  },
  {
   "cell_type": "code",
   "execution_count": 9,
   "id": "7f49d619",
   "metadata": {},
   "outputs": [],
   "source": [
    "images, labels = zip(*ims)\n",
    "X = np.array(images)\n",
    "y = np.array(labels)\n",
    "XTrain, XTest, yTrain, yTest = train_test_split(X,y, stratify=y, test_size=0.3, random_state=42)"
   ]
  },
  {
   "cell_type": "code",
   "execution_count": 10,
   "id": "cf6638e9",
   "metadata": {},
   "outputs": [
    {
     "name": "stdout",
     "output_type": "stream",
     "text": [
      "              precision    recall  f1-score   support\n",
      "\n",
      "       False       0.91      0.87      0.89      3276\n",
      "        True       0.87      0.91      0.89      3230\n",
      "\n",
      "    accuracy                           0.89      6506\n",
      "   macro avg       0.89      0.89      0.89      6506\n",
      "weighted avg       0.89      0.89      0.89      6506\n",
      "\n"
     ]
    }
   ],
   "source": [
    "clf = RandomForestClassifier(n_estimators=100, random_state=42)\n",
    "clf.fit(XTrain, yTrain)\n",
    "yPred = clf.predict(XTest)\n",
    "print(classification_report(yTest,yPred))"
   ]
  },
  {
   "cell_type": "code",
   "execution_count": 11,
   "id": "8e46571e",
   "metadata": {},
   "outputs": [
    {
     "name": "stdout",
     "output_type": "stream",
     "text": [
      "\n",
      "k-NN:\n",
      "              precision    recall  f1-score   support\n",
      "\n",
      "       False       0.88      0.97      0.92      3276\n",
      "        True       0.96      0.87      0.91      3230\n",
      "\n",
      "    accuracy                           0.92      6506\n",
      "   macro avg       0.92      0.92      0.92      6506\n",
      "weighted avg       0.92      0.92      0.92      6506\n",
      "\n",
      "\n",
      "Logistische Regression:\n",
      "              precision    recall  f1-score   support\n",
      "\n",
      "       False       0.69      0.70      0.70      3276\n",
      "        True       0.69      0.68      0.69      3230\n",
      "\n",
      "    accuracy                           0.69      6506\n",
      "   macro avg       0.69      0.69      0.69      6506\n",
      "weighted avg       0.69      0.69      0.69      6506\n",
      "\n",
      "\n",
      "Gradient Boosting:\n",
      "              precision    recall  f1-score   support\n",
      "\n",
      "       False       0.93      0.89      0.91      3276\n",
      "        True       0.90      0.93      0.91      3230\n",
      "\n",
      "    accuracy                           0.91      6506\n",
      "   macro avg       0.91      0.91      0.91      6506\n",
      "weighted avg       0.91      0.91      0.91      6506\n",
      "\n"
     ]
    }
   ],
   "source": [
    "models = {\n",
    "    #\"Random Forest\": RandomForestClassifier(n_estimators=100, random_state=42),\n",
    "    #\"SVM\": SVC(kernel='rbf', C=1),\n",
    "    \"k-NN\": KNeighborsClassifier(n_neighbors=3),\n",
    "    \"Logistische Regression\": LogisticRegression(max_iter=1000),\n",
    "    \"Gradient Boosting\": GradientBoostingClassifier(n_estimators=100,learning_rate=0.2)\n",
    "}\n",
    "\n",
    "for name, model in models.items():\n",
    "    model.fit(XTrain, yTrain)\n",
    "    yPred = model.predict(XTest)\n",
    "    print(f\"\\n{name}:\")\n",
    "    print(classification_report(yTest, yPred))"
   ]
  }
 ],
 "metadata": {
  "kernelspec": {
   "display_name": "SemKiP",
   "language": "python",
   "name": "python3"
  },
  "language_info": {
   "codemirror_mode": {
    "name": "ipython",
    "version": 3
   },
   "file_extension": ".py",
   "mimetype": "text/x-python",
   "name": "python",
   "nbconvert_exporter": "python",
   "pygments_lexer": "ipython3",
   "version": "3.12.3"
  }
 },
 "nbformat": 4,
 "nbformat_minor": 5
}
